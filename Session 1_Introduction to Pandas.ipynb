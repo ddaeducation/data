{
 "cells": [
  {
   "cell_type": "markdown",
   "id": "0935638d-deb0-4286-b1e5-ad3f910a9296",
   "metadata": {},
   "source": [
    "# Introduction to Pandas\n",
    "### 1.1 Overview of Pandas\n",
    "\n",
    "**What are Pandas?**\n",
    "Pandas is an open-source data analysis and manipulation library for Python. It provides data structures and functions needed to work with structured data seamlessly. The primary data structures in Pandas are Series and DataFrame.\n",
    "\n",
    "**Why use Pandas for data analysis?**\n",
    "Pandas is widely used for data analysis due to its powerful capabilities, including:\n",
    "- Easy handling of missing data.\n",
    "- Data alignment and reshaping.\n",
    "- High-performance merging and joining of datasets.\n",
    "- Time series functionality.\n",
    "- Intuitive data manipulation and analysis tools.\n",
    "\n",
    "**Key Pandas components: Series and DataFrame**\n",
    "- **Series**: A one-dimensional labeled array capable of holding any data type. It can be thought of as a column in a table.\n",
    "- **DataFrame**: A two-dimensional labeled data structure with columns of potentially different types. It is similar to a spreadsheet or SQL table and is the primary data structure used in Pandas.\n",
    "\n",
    "### 1.2 Setting Up Your Environment"
   ]
  },
  {
   "cell_type": "markdown",
   "id": "e1cf5069-4fe7-4ac3-aac8-e143c707342f",
   "metadata": {},
   "source": [
    "\n",
    "**Setting up a Python environment**\n",
    "You can set up a Python environment using Jupyter Notebook or Anaconda. Here’s how to do it:\n",
    "\n",
    "- **Jupyter Notebook**: Install Jupyter using pip:\n",
    "  "
   ]
  },
  {
   "cell_type": "markdown",
   "id": "9c96e5e1-ee35-4d31-912f-6005b834cc22",
   "metadata": {},
   "source": [
    "\n",
    "- **Anaconda**: Download and install Anaconda from the [official website](https://www.anaconda.com/products/distribution). Anaconda comes with Jupyter Notebook and many other useful packages pre-installed.\n",
    "\n",
    "### 1.3 Pandas Basics\n",
    "\n",
    "**Importing data from CSV, Excel, and JSON**\n",
    "You can import data using the following functions:\n",
    "- CSV: `pd.read_csv('file.csv')` [Female_Political](https://github.com/ddaeducation/data/blob/main/Female_Political_Representation2.csv)\n",
    "- Excel: `pd.read_excel('file.xlsx')` [College_scorecard](https://github.com/ddaeducation/data/blob/main/college_scorecard_2021-22.xlsx)\n",
    "- JSON: `pd.read_json('file.json')` [Iris_Example](https://github.com/ddaeducation/data/blob/main/iris.json)\n",
    "- yfinance `yf.download(Ticker, start, end)` [Stock_data](https://finance.yahoo.com/quote/%5EGSPC/history/)"
   ]
  },
  {
   "cell_type": "markdown",
   "id": "79fd637c-7db0-4d7c-a505-a8b2cb850fbd",
   "metadata": {},
   "source": [
    "Data Source: [Mexico-real_estate_clean](https://github.com/ddaeducation/data/blob/main/mexico_real_estate_clean.csv)"
   ]
  },
  {
   "cell_type": "code",
   "execution_count": 24,
   "id": "2643f8cf-a8be-48c1-b0ac-60726252829a",
   "metadata": {},
   "outputs": [],
   "source": [
    "import pandas as pd\n",
    "from skimpy import skim"
   ]
  },
  {
   "cell_type": "code",
   "execution_count": null,
   "id": "ac004914-92e3-416d-8d10-b492f1d67506",
   "metadata": {},
   "outputs": [],
   "source": []
  },
  {
   "cell_type": "markdown",
   "id": "5bbd1fbc-155e-4ddb-99fd-5e5d8c483b28",
   "metadata": {},
   "source": [
    "**Viewing data**\n",
    "You can view data using:\n",
    "- `df.head()`: Displays the first 5 rows of the DataFrame.\n",
    "- `df.tail()`: Displays the last 5 rows of the DataFrame.\n",
    "- `df.info()`: Provides a summary of the DataFrame, including the data types and non-null counts.\n",
    "- `df.describe()`: Generates descriptive statistics for numerical columns.\n",
    "- `skimpy(df)`: it is the summary of dataframe\n",
    "- `df.columns`: Returns Column Names\n",
    "- `df.dtypes` : Returns Data Types"
   ]
  },
  {
   "cell_type": "markdown",
   "id": "874f53b0-91c0-469a-a66c-219b13260f04",
   "metadata": {},
   "source": [
    "**Data selection**\n",
    "You can select data using:\n",
    "- **Indexing and slicing**:\n",
    "  - `df.loc[]`: Access a group of rows and columns by labels or a boolean array.\n",
    "     - `df.loc[[\"A\", \"B\"], [\"Name\", \"Age\"]] (specific rows and columns`\n",
    "     - `df.loc[:, \"City\"])(all rows with sepecifi columns)`\n",
    "  - `df.iloc[]`: Access a group of rows and columns by integer position.\n",
    "     - `df.iloc[0:2, 0:2], Select the first two rows and the first two columns`\n",
    "     - `df.iloc[:, 1],Select all rows and the second column`"
   ]
  },
  {
   "cell_type": "code",
   "execution_count": null,
   "id": "3353f444-1718-4a99-8b38-f976a96a0517",
   "metadata": {},
   "outputs": [],
   "source": []
  },
  {
   "cell_type": "markdown",
   "id": "21cafda4-110c-47a1-87eb-db1ba2d3a00a",
   "metadata": {},
   "source": [
    "### 1.4 Hands-on Practice\n",
    "#### Objective:\n",
    "The goal of this assignment is to familiarize yourself with the Pandas library by loading and exploring the Titanic dataset. You will perform various data exploration tasks to understand the structure and characteristics of the dataset.\n",
    "\n",
    "#### Instructions:\n",
    "\n",
    "1. **Setup**:\n",
    "   - Ensure you have Python and Jupyter Notebook installed on your machine.\n",
    "   - Install the Pandas library if you haven't already by running `!pip install pandas` in a Jupyter Notebook cell.\n",
    "\n",
    "2. **Load the Dataset**:\n",
    "   - Download the Titanic dataset from [ddaeducation](https://github.com/ddaeducation/data/blob/main/titanic.csv) and [Description](https://www.kaggle.com/competitions/titanic/data)or any other source and save it as `titanic.csv`.\n",
    "   - Use the following code to load the dataset into a Pandas DataFrame:\n",
    "     import pandas as pd\n",
    "     `df = pd.read_csv('titanic.csv')`\n",
    "\n",
    "3. **Data Exploration**:\n",
    "   - Perform the following tasks and document your findings:\n",
    "     1. Display the first 10 rows of the dataset using `df.head(10)`.\n",
    "     2. Display the last 10 rows of the dataset using `df.tail(10)`.\n",
    "     3. Get a summary of the dataset using `df.info()`.\n",
    "     4. Generate descriptive statistics for numerical columns using `df.describe()`.\n",
    "     5. List all the column names in the dataset using `df.columns`.\n",
    "     6. Check the data types of each column using `df.dtypes`.\n",
    "\n",
    "4. **Data Selection (After Second Session)**:\n",
    "   - Select and display the following subsets of data:\n",
    "     1. All passengers who survived (use boolean indexing).\n",
    "     2. The first 5 rows of the 'Age' and 'Fare' columns using `df.loc[]`.\n",
    "     3. The rows corresponding to the first class passengers using `df[df['Pclass'] == 1]`.\n",
    "\n",
    "5. **Analysis Questions** (**After Second Session**):\n",
    "   - Answer the following questions based on your exploration:\n",
    "     1. How many passengers were on board the Titanic?\n",
    "     2. What was the average age of the passengers?\n",
    "     3. How many passengers survived, and what percentage of the total does this represent?\n",
    "     4. What was the average fare paid by passengers?\n",
    "\n",
    "6. **Submission**:\n",
    "   - Save your Jupyter Notebook and submit it as a `.ipynb` file. Ensure that your code is well-commented and your findings are clearly documented and share with me\n",
    "\n",
    "#### Evaluation Criteria:\n",
    "- Correctness of the code and outputs.\n",
    "- Clarity and organization of the notebook.\n",
    "- Completeness of the analysis questions.\n",
    "- Proper use of Pandas functions and methods.\n",
    "\n",
    "### Good Luck!\n",
    "This assignment will help you gain hands-on experience with data manipulation and analysis using Pandas."
   ]
  },
  {
   "cell_type": "code",
   "execution_count": null,
   "id": "9f79d6ce-d37d-4ebf-bb6c-c80b986f2ea3",
   "metadata": {},
   "outputs": [],
   "source": []
  }
 ],
 "metadata": {
  "kernelspec": {
   "display_name": "anaconda-2024.02-py310",
   "language": "python",
   "name": "conda-env-anaconda-2024.02-py310-py"
  },
  "language_info": {
   "codemirror_mode": {
    "name": "ipython",
    "version": 3
   },
   "file_extension": ".py",
   "mimetype": "text/x-python",
   "name": "python",
   "nbconvert_exporter": "python",
   "pygments_lexer": "ipython3",
   "version": "3.10.14"
  }
 },
 "nbformat": 4,
 "nbformat_minor": 5
}
